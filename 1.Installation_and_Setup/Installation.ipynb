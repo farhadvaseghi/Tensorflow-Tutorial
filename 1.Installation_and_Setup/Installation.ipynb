{
 "cells": [
  {
   "cell_type": "markdown",
   "metadata": {},
   "source": [
    "# Tensorflow Tutorial \n",
    " - written by Farhad Vaseghi"
   ]
  },
  {
   "cell_type": "code",
   "execution_count": 2,
   "metadata": {},
   "outputs": [
    {
     "name": "stdout",
     "output_type": "stream",
     "text": [
      "2.9.0\n"
     ]
    }
   ],
   "source": [
    "# Check the version\n",
    "import tensorflow as tf \n",
    "print(tf.__version__)"
   ]
  },
  {
   "cell_type": "markdown",
   "metadata": {},
   "source": [
    "#### Download Prerequisites\n",
    "- download anaconda  \n",
    "    - https://www.anaconda.com/\n",
    "- downlod Pycharm\n",
    "    - https://www.jetbrains.com/pycharm/\n",
    "- create venv with python\n",
    "    - https://liara.ir/blog/%D8%A2%D9%85%D9%88%D8%B2%D8%B4-%D9%86%D8%B5%D8%A8-%D9%88-%D8%A7%D8%B3%D8%AA%D9%81%D8%A7%D8%AF%D9%87-%D8%A7%D8%B2-virtual-environment-%D8%AF%D8%B1-python/\n",
    "- create venv with anconda\n",
    "    - https://dataio.ir/python-virtual-env-ewixug6vdwuy"
   ]
  },
  {
   "cell_type": "markdown",
   "metadata": {},
   "source": [
    "#### Installation Tensorflow on GPU and CPU"
   ]
  },
  {
   "cell_type": "markdown",
   "metadata": {},
   "source": [
    "##### 1.GPU Capability \n",
    "- Check wheather you have any CUDA-Enabled GeForce and TITAN Products\n",
    "    - https://developer.nvidia.com/cuda-gpus\n",
    " \n",
    "- Download NVIDIA Drivers If you have GPU \n",
    "    - https://www.nvidia.com/Download/index.aspx"
   ]
  },
  {
   "cell_type": "markdown",
   "metadata": {},
   "source": [
    "##### 2.Install TensorFlow on GPU with Anaconda\n",
    "- by following command we will have an environment where we can run Tensorflow on GPU"
   ]
  },
  {
   "cell_type": "code",
   "execution_count": null,
   "metadata": {},
   "outputs": [],
   "source": [
    "# please run the below commands in Anaconda Prompt\n",
    "conda create --name tf_gpu\n",
    "\n",
    "activate tf_gpu\n",
    "\n",
    "conda install tensorflow-gpu"
   ]
  },
  {
   "cell_type": "markdown",
   "metadata": {},
   "source": [
    "##### 3.Install TensorFlow on CPU with Anaconda\n",
    "- by following command we will have an env where we can run Tensorflow on CPU"
   ]
  },
  {
   "cell_type": "code",
   "execution_count": null,
   "metadata": {},
   "outputs": [],
   "source": [
    "# please run the below command in Anaconda Prompt\n",
    "conda create --name tf_cpu\n",
    "\n",
    "activate tf_cpu\n",
    "\n",
    "conda install tensorflow  # pip install tensorflow "
   ]
  },
  {
   "cell_type": "markdown",
   "metadata": {},
   "source": [
    "- For installing specific version of a packages with pip use :\n",
    "  - pip install <package_name>==<package_version>\n",
    "- For installing specific version of a packages with conda use :\n",
    "  - conda install <package_name>=<package_version>"
   ]
  }
 ],
 "metadata": {
  "kernelspec": {
   "display_name": "Python 3.8.8 ('base')",
   "language": "python",
   "name": "python3"
  },
  "language_info": {
   "codemirror_mode": {
    "name": "ipython",
    "version": 3
   },
   "file_extension": ".py",
   "mimetype": "text/x-python",
   "name": "python",
   "nbconvert_exporter": "python",
   "pygments_lexer": "ipython3",
   "version": "3.8.8"
  },
  "orig_nbformat": 4,
  "vscode": {
   "interpreter": {
    "hash": "e3a23f12c2cb1429499839e5969ee8318b524045ad5ede214855831a40d1ec07"
   }
  }
 },
 "nbformat": 4,
 "nbformat_minor": 2
}
