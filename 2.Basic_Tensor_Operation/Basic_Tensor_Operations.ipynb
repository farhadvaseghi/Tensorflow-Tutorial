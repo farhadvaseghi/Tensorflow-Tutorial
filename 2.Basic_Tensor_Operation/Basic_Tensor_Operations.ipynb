{
 "cells": [
  {
   "cell_type": "markdown",
   "metadata": {},
   "source": [
    "## Basic Tensor Operation in Tensorflow"
   ]
  },
  {
   "cell_type": "markdown",
   "metadata": {},
   "source": [
    "### What is Tensor? \n",
    "- A Tensor is an N-dimensional array of data.\n",
    "<p align=\"center\">\n",
    "    <img src=\"Tensor.png\"  width=\"600\" height=\"300\">\n",
    "p>\n"
   ]
  },
  {
   "cell_type": "code",
   "execution_count": 2,
   "metadata": {},
   "outputs": [],
   "source": [
    "# import necessary modules\n",
    "\n",
    "# the command below ignors warnings\n",
    "import os \n",
    "os.environ['TF_CPP_MIN_LOG_LEVEL'] = '2'\n",
    "\n",
    "import tensorflow as tf\n",
    "\n",
    "# physical_devices = tf.config.list_physical_devices('GPU') \n",
    "# tf.config.experimental.set_memory_growth(physical_devices[0], True)"
   ]
  },
  {
   "cell_type": "markdown",
   "metadata": {},
   "source": [
    "### Initialization of Tensors"
   ]
  },
  {
   "cell_type": "code",
   "execution_count": 16,
   "metadata": {},
   "outputs": [
    {
     "name": "stdout",
     "output_type": "stream",
     "text": [
      "tf.Tensor(5, shape=(), dtype=int32)\n",
      "Tensor Dimension: 0\n",
      "Tensor Shape: ()\n",
      "Tensor Type: <dtype: 'int32'>\n",
      "---------------------------------\n",
      "Tensor Dimension: 0\n",
      "Tensor Shape: ()\n",
      "Tensor Type: <dtype: 'float32'>\n",
      "---------------------------------\n",
      "Tensor Dimension: 1\n",
      "Tensor Shape: (1,)\n",
      "Tensor Type: <dtype: 'int32'>\n",
      "---------------------------------\n",
      "Tensor Dimension: 2\n",
      "Tensor Shape: (1, 1)\n",
      "Tensor Type: <dtype: 'float32'>\n"
     ]
    }
   ],
   "source": [
    "x = tf.constant(5)\n",
    "y = tf.constant(5.0)\n",
    "z = tf.constant(5, shape=(1,))\n",
    "m = tf.constant(5, shape=(1, 1), dtype=tf.float32)\n",
    "print(x)\n",
    "print(\"Tensor Dimension:\", x.ndim)\n",
    "print(\"Tensor Shape:\", x.shape)\n",
    "print(\"Tensor Type:\", x.dtype) \n",
    "\n",
    "print(\"---------------------------------\")\n",
    "print(\"Tensor Dimension:\", y.ndim)\n",
    "print(\"Tensor Shape:\", y.shape)\n",
    "print(\"Tensor Type:\", y.dtype) \n",
    "\n",
    "print(\"---------------------------------\")\n",
    "print(\"Tensor Dimension:\", z.ndim)\n",
    "print(\"Tensor Shape:\", z.shape)\n",
    "print(\"Tensor Type:\", z.dtype) \n",
    "\n",
    "print(\"---------------------------------\")\n",
    "print(\"Tensor Dimension:\", m.ndim)\n",
    "print(\"Tensor Shape:\", m.shape)\n",
    "print(\"Tensor Type:\", m.dtype) \n"
   ]
  },
  {
   "cell_type": "code",
   "execution_count": 17,
   "metadata": {},
   "outputs": [
    {
     "name": "stdout",
     "output_type": "stream",
     "text": [
      "tf.Tensor(\n",
      "[[ 1  2  3  4]\n",
      " [11 22 33 44]], shape=(2, 4), dtype=int32) (2, 4)\n"
     ]
    }
   ],
   "source": [
    "a = tf.constant([[1, 2, 3, 4], [11, 22, 33, 44]])\n",
    "print(a)"
   ]
  },
  {
   "cell_type": "code",
   "execution_count": 15,
   "metadata": {},
   "outputs": [
    {
     "name": "stdout",
     "output_type": "stream",
     "text": [
      "tf.Tensor(\n",
      "[[1. 1. 1.]\n",
      " [1. 1. 1.]\n",
      " [1. 1. 1.]], shape=(3, 3), dtype=float32)\n",
      "Tensor Dimension: 2\n",
      "Tensor Shape: (3, 3)\n",
      "Tensor Type: <dtype: 'float32'>\n",
      "---------------------------------\n",
      "tf.Tensor(\n",
      "[[0]\n",
      " [0]], shape=(2, 1), dtype=int32)\n",
      "Tensor Dimension: 2\n",
      "Tensor Shape: (2, 1)\n",
      "Tensor Type: <dtype: 'int32'>\n"
     ]
    }
   ],
   "source": [
    "x = tf.ones(shape=(3, 3), dtype=tf.float32)\n",
    "print(x)\n",
    "print(\"Tensor Dimension:\", x.ndim)\n",
    "print(\"Tensor Shape:\", x.shape)\n",
    "print(\"Tensor Type:\", x.dtype) \n",
    "\n",
    "print(\"---------------------------------\")\n",
    "y = tf.zeros(shape=(2, 1), dtype=tf.int32)\n",
    "print(y)\n",
    "print(\"Tensor Dimension:\", y.ndim)\n",
    "print(\"Tensor Shape:\", y.shape)\n",
    "print(\"Tensor Type:\", y.dtype) "
   ]
  },
  {
   "cell_type": "code",
   "execution_count": 17,
   "metadata": {},
   "outputs": [
    {
     "name": "stdout",
     "output_type": "stream",
     "text": [
      "tf.Tensor(\n",
      "[[1. 0.]\n",
      " [0. 1.]], shape=(2, 2), dtype=float32)\n",
      "---------------------------------\n",
      "tf.Tensor(\n",
      "[[1. 0. 0. 0.]\n",
      " [0. 1. 0. 0.]], shape=(2, 4), dtype=float32)\n"
     ]
    }
   ],
   "source": [
    "# I for Identity matrix(eye)\n",
    "x = tf.eye(2)\n",
    "y = tf.eye(2, 4)\n",
    "print(x)\n",
    "print(\"---------------------------------\")\n",
    "print(y)"
   ]
  },
  {
   "cell_type": "code",
   "execution_count": 18,
   "metadata": {},
   "outputs": [
    {
     "name": "stdout",
     "output_type": "stream",
     "text": [
      "tf.Tensor(\n",
      "[[-0.29693615 -1.322395   -0.3649799 ]\n",
      " [-1.9506166  -0.9418601  -0.6727223 ]\n",
      " [ 0.34973788 -1.907273    1.2210419 ]], shape=(3, 3), dtype=float32)\n"
     ]
    }
   ],
   "source": [
    "# create a matrix of Standard Normal Distribution\n",
    "x = tf.random.normal(shape=(3, 3),  mean=0, stddev=1)\n",
    "print(x)\n"
   ]
  },
  {
   "cell_type": "code",
   "execution_count": 19,
   "metadata": {},
   "outputs": [
    {
     "name": "stdout",
     "output_type": "stream",
     "text": [
      "tf.Tensor([[0.23287249 0.00309634 1.2859795 ]], shape=(1, 3), dtype=float32)\n"
     ]
    }
   ],
   "source": [
    "# create a matrix of Uniform Distribution: [minval, maxval)\n",
    "x = tf.random.uniform(shape=(1, 3), minval=0, maxval=2)\n",
    "print(x)"
   ]
  },
  {
   "cell_type": "code",
   "execution_count": 20,
   "metadata": {},
   "outputs": [
    {
     "name": "stdout",
     "output_type": "stream",
     "text": [
      "tf.Tensor([0 1 2 3 4 5 6 7], shape=(8,), dtype=int32)\n",
      "---------------------------------\n",
      "tf.Tensor([ 3  8 13 18], shape=(4,), dtype=int32)\n"
     ]
    }
   ],
   "source": [
    "x = tf.range(8)\n",
    "y = tf.range(start=3, limit=20, delta=5)\n",
    "print(x)\n",
    "print(\"---------------------------------\")\n",
    "print(y)"
   ]
  },
  {
   "cell_type": "code",
   "execution_count": 33,
   "metadata": {},
   "outputs": [
    {
     "name": "stdout",
     "output_type": "stream",
     "text": [
      "tf.Tensor([0. 1. 2. 3. 4. 5. 6. 7.], shape=(8,), dtype=float32)\n"
     ]
    }
   ],
   "source": [
    "# convert between different types \n",
    "# like: tf.float(16, 32, 64), tf.int(8, 16, 32, 64), tf.bool\n",
    "x = tf.cast(x, dtype=tf.float32)\n",
    "print(x)"
   ]
  },
  {
   "cell_type": "markdown",
   "metadata": {},
   "source": [
    "### Mathematical Operations "
   ]
  },
  {
   "cell_type": "code",
   "execution_count": 21,
   "metadata": {},
   "outputs": [
    {
     "name": "stdout",
     "output_type": "stream",
     "text": [
      "tf.Tensor([10 10 10], shape=(3,), dtype=int32)\n",
      "---------------------------------\n",
      "tf.Tensor([-8 -6 -4], shape=(3,), dtype=int32)\n"
     ]
    }
   ],
   "source": [
    "# elemenwise add and subtract\n",
    "x = tf.constant([1, 2, 3])\n",
    "y = tf.constant([9, 8, 7])\n",
    "\n",
    "z = tf.add(x, y)   # or z = x + y\n",
    "print(z)\n",
    "print(\"---------------------------------\")\n",
    "z = tf.subtract(x, y)   # or z = x - y\n",
    "print(z)"
   ]
  },
  {
   "cell_type": "code",
   "execution_count": 22,
   "metadata": {},
   "outputs": [
    {
     "name": "stdout",
     "output_type": "stream",
     "text": [
      "tf.Tensor([ 9 16 21], shape=(3,), dtype=int32)\n",
      "---------------------------------\n",
      "tf.Tensor([0.11111111 0.25       0.42857143], shape=(3,), dtype=float64)\n"
     ]
    }
   ],
   "source": [
    "# elementwise multiplication and division\n",
    "z = tf.multiply(x, y)   # or z = x * y\n",
    "print(z)\n",
    "print(\"---------------------------------\")\n",
    "z = tf.divide(x, y)     # or z = x / y\n",
    "print(z)"
   ]
  },
  {
   "cell_type": "code",
   "execution_count": 42,
   "metadata": {},
   "outputs": [
    {
     "name": "stdout",
     "output_type": "stream",
     "text": [
      "tf.Tensor(46, shape=(), dtype=int32)\n"
     ]
    }
   ],
   "source": [
    "# dot product(elementwise)\n",
    "z = tf.tensordot(x, y, axes=1)   # or tf.reduce_sum(x*y, axis=0)\n",
    "print(z)\n"
   ]
  },
  {
   "cell_type": "code",
   "execution_count": 43,
   "metadata": {},
   "outputs": [
    {
     "name": "stdout",
     "output_type": "stream",
     "text": [
      "tf.Tensor([1 4 9], shape=(3,), dtype=int32)\n"
     ]
    }
   ],
   "source": [
    "# Elementwis Exponention\n",
    "z = x**2\n",
    "print(z)"
   ]
  },
  {
   "cell_type": "code",
   "execution_count": 52,
   "metadata": {},
   "outputs": [
    {
     "name": "stdout",
     "output_type": "stream",
     "text": [
      "tf.Tensor(\n",
      "[[-1.7686853   2.958541   -0.6189273  -1.4002525 ]\n",
      " [-0.9542395   2.071267   -0.59745026 -1.1870003 ]], shape=(2, 4), dtype=float32)\n",
      "tf.Tensor(\n",
      "[[-1.7686853   2.958541   -0.6189273  -1.4002525 ]\n",
      " [-0.9542395   2.071267   -0.59745026 -1.1870003 ]], shape=(2, 4), dtype=float32)\n"
     ]
    }
   ],
   "source": [
    "# Matrix Multiplication\n",
    "\n",
    "x = tf.random.normal((2, 3))\n",
    "y = tf.random.normal((3, 4))\n",
    "z = tf.matmul(x, y)\n",
    "print(z)\n",
    "# or \n",
    "z = x @ y\n",
    "print(z)"
   ]
  },
  {
   "cell_type": "markdown",
   "metadata": {},
   "source": [
    "### Indexing of Tensors"
   ]
  },
  {
   "cell_type": "code",
   "execution_count": 65,
   "metadata": {},
   "outputs": [
    {
     "name": "stdout",
     "output_type": "stream",
     "text": [
      "tf.Tensor([0 1 1 2 3 1 2 3], shape=(8,), dtype=int32)\n",
      "tf.Tensor([1 1 2 3 1 2 3], shape=(7,), dtype=int32)\n",
      "tf.Tensor([1 1], shape=(2,), dtype=int32)\n",
      "tf.Tensor([0 1 3 2], shape=(4,), dtype=int32)\n",
      "tf.Tensor([3 1 2 1], shape=(4,), dtype=int32)\n",
      "tf.Tensor([0 2], shape=(2,), dtype=int32)\n",
      "-------------------------\n",
      "tf.Tensor([1 2], shape=(2,), dtype=int32)\n",
      "tf.Tensor([1 2], shape=(2,), dtype=int32)\n",
      "tf.Tensor([1 2], shape=(2,), dtype=int32)\n",
      "-------------------------\n",
      "tf.Tensor(\n",
      "[[3 4]\n",
      " [5 6]], shape=(2, 2), dtype=int32)\n"
     ]
    }
   ],
   "source": [
    "x = tf.constant([0, 1, 1, 2, 3, 1, 2, 3])\n",
    "print(x[:])\n",
    "print(x[1:])\n",
    "print(x[1:3])\n",
    "print(x[::2]) # skip with delta=2\n",
    "print(x[::-2])\n",
    "\n",
    "# gather specific index form tensor\n",
    "indices = tf.constant([0, 3])\n",
    "x_ind = tf.gather(x, indices)\n",
    "print(x_ind)\n",
    "\n",
    "print('-------------------------')\n",
    "x = tf.constant([[1, 2],\n",
    "                 [3, 4],\n",
    "                 [5, 6]])\n",
    "print(x[0])\n",
    "print(x[0, :])\n",
    "print(x[0][:])  \n",
    "\n",
    "print('-------------------------')\n",
    "print(x[1:3, :])   "
   ]
  },
  {
   "cell_type": "markdown",
   "metadata": {},
   "source": [
    "### Reshaping of Tensors"
   ]
  },
  {
   "cell_type": "code",
   "execution_count": 26,
   "metadata": {},
   "outputs": [
    {
     "name": "stdout",
     "output_type": "stream",
     "text": [
      "tf.Tensor(\n",
      "[[0 1 2]\n",
      " [3 4 5]\n",
      " [6 7 8]], shape=(3, 3), dtype=int32)\n"
     ]
    }
   ],
   "source": [
    "x = tf.range(9)\n",
    "x = tf.reshape(x, (3, 3))\n",
    "print(x)"
   ]
  },
  {
   "cell_type": "code",
   "execution_count": 28,
   "metadata": {},
   "outputs": [
    {
     "name": "stdout",
     "output_type": "stream",
     "text": [
      "tf.Tensor(\n",
      "[[0 1 2]\n",
      " [3 4 5]\n",
      " [6 7 8]], shape=(3, 3), dtype=int32)\n",
      "-------------------------\n",
      "tf.Tensor(\n",
      "[[0 3 6]\n",
      " [1 4 7]\n",
      " [2 5 8]], shape=(3, 3), dtype=int32)\n",
      "-------------------------\n",
      "tf.Tensor(\n",
      "[[0 3 6]\n",
      " [1 4 7]\n",
      " [2 5 8]], shape=(3, 3), dtype=int32)\n"
     ]
    }
   ],
   "source": [
    "# Transpose \n",
    "print(x)\n",
    "\n",
    "print('-------------------------')\n",
    "x1 = tf.transpose(x)\n",
    "print(x1)\n",
    "\n",
    "print('-------------------------')\n",
    "x2 = tf.transpose(x, perm=[1, 0]) # per: permutation\n",
    "print(x2)\n",
    "# The returned tensor's dimension i will correspond to \n",
    "# the input dimension perm[i]. If perm is not given, it\n",
    "# is set to (n-1...0), where n is the rank of the input tensor. "
   ]
  },
  {
   "cell_type": "code",
   "execution_count": null,
   "metadata": {},
   "outputs": [],
   "source": []
  }
 ],
 "metadata": {
  "kernelspec": {
   "display_name": "Python 3.9.13 ('tf_gpu')",
   "language": "python",
   "name": "python3"
  },
  "language_info": {
   "codemirror_mode": {
    "name": "ipython",
    "version": 3
   },
   "file_extension": ".py",
   "mimetype": "text/x-python",
   "name": "python",
   "nbconvert_exporter": "python",
   "pygments_lexer": "ipython3",
   "version": "3.9.13"
  },
  "orig_nbformat": 4,
  "vscode": {
   "interpreter": {
    "hash": "501795049e3afda65018b5c64abc65519f9dee37136fead1ed27d15b14dfb7b9"
   }
  }
 },
 "nbformat": 4,
 "nbformat_minor": 2
}
